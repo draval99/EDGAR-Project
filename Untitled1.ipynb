{
 "cells": [
  {
   "cell_type": "code",
   "execution_count": 11,
   "id": "de1921dc",
   "metadata": {},
   "outputs": [],
   "source": [
    "def get_sentiment_word_dict():\n",
    "    import pandas as pd \n",
    "    df = pd.read_csv('Loughran-McDonald_MasterDictionary_1993-2021.csv')\n",
    "    df = df.drop(['Seq_num', 'Word Count', 'Word Proportion', 'Average Proportion', 'Std Dev', 'Doc Count', 'Syllables', 'Source'], axis=1)\n",
    "    \n",
    "    negative_list =[]    \n",
    "    positive_list = []\n",
    "    uncertainty_list = []\n",
    "    litigious_list = []\n",
    "    strong_modal_list = []\n",
    "    weak_modal_list = []\n",
    "    contraining_list = []\n",
    "    for i in range(len(df)):\n",
    "        if df['Negative'][i] != 0:\n",
    "            negative_list.append(df['Word'][i])\n",
    "        elif df['Positive'][i] != 0:\n",
    "            positive_list.append(df['Word'][i])\n",
    "        elif df['Uncertainty'][i] != 0:\n",
    "            uncertainty_list.append(df['Word'][i])\n",
    "        elif df['Litigious'][i] != 0:\n",
    "            litigious_list.append(df['Word'][i])\n",
    "        elif df['Strong_Modal'][i] != 0:\n",
    "            strong_modal_list.append(df['Word'][i])\n",
    "        elif df['Weak_Modal'][i] != 0:\n",
    "            weak_modal_list.append(df['Word'][i])\n",
    "        elif df['Constraining'][i] != 0:\n",
    "            contraining_list.append(df['Word'][i])\n",
    "        \n",
    "\n",
    "\n",
    "\n",
    "    my_dict = {'Negative': negative_list, 'Positive': positive_list, 'Uncertainty': uncertainty_list, 'Litigious': litigious_list, 'Strong_Modal': strong_modal_list, 'Weak_Modal': weak_modal_list, 'Constraining': contraining_list}\n",
    "\n",
    "    return my_dict\n"
   ]
  },
  {
   "cell_type": "code",
   "execution_count": null,
   "id": "0b7d184f",
   "metadata": {},
   "outputs": [],
   "source": [
    "get_sentiment_word_dict()['Constraining']"
   ]
  }
 ],
 "metadata": {
  "kernelspec": {
   "display_name": "Python 3 (ipykernel)",
   "language": "python",
   "name": "python3"
  },
  "language_info": {
   "codemirror_mode": {
    "name": "ipython",
    "version": 3
   },
   "file_extension": ".py",
   "mimetype": "text/x-python",
   "name": "python",
   "nbconvert_exporter": "python",
   "pygments_lexer": "ipython3",
   "version": "3.10.8"
  }
 },
 "nbformat": 4,
 "nbformat_minor": 5
}
