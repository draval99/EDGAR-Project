{
 "cells": [
  {
   "cell_type": "code",
   "execution_count": 1,
   "id": "38d8fc7a",
   "metadata": {},
   "outputs": [
    {
     "ename": "ModuleNotFoundError",
     "evalue": "No module named 'ref_data'",
     "output_type": "error",
     "traceback": [
      "\u001b[1;31m---------------------------------------------------------------------------\u001b[0m",
      "\u001b[1;31mModuleNotFoundError\u001b[0m                       Traceback (most recent call last)",
      "Cell \u001b[1;32mIn[1], line 1\u001b[0m\n\u001b[1;32m----> 1\u001b[0m \u001b[38;5;28;01mimport\u001b[39;00m \u001b[38;5;21;01mref_data\u001b[39;00m \u001b[38;5;28;01mas\u001b[39;00m \u001b[38;5;21;01medgar_data\u001b[39;00m\n\u001b[0;32m      2\u001b[0m sentiment_dict \u001b[38;5;241m=\u001b[39m edgar_data\u001b[38;5;241m.\u001b[39m get_sentiment_word_dict()\n\u001b[0;32m      3\u001b[0m \u001b[38;5;28mprint\u001b[39m(sentiment_dict)\n",
      "\u001b[1;31mModuleNotFoundError\u001b[0m: No module named 'ref_data'"
     ]
    }
   ],
   "source": [
    "import ref_data as edgar_data\n",
    "sentiment_dict = edgar_data. get_sentiment_word_dict()\n",
    "print(sentiment_dict)"
   ]
  },
  {
   "cell_type": "code",
   "execution_count": 2,
   "id": "c4876871",
   "metadata": {},
   "outputs": [
    {
     "ename": "ModuleNotFoundError",
     "evalue": "No module named 'ref_data'",
     "output_type": "error",
     "traceback": [
      "\u001b[1;31m---------------------------------------------------------------------------\u001b[0m",
      "\u001b[1;31mModuleNotFoundError\u001b[0m                       Traceback (most recent call last)",
      "Cell \u001b[1;32mIn[2], line 1\u001b[0m\n\u001b[1;32m----> 1\u001b[0m \u001b[38;5;28;01mimport\u001b[39;00m \u001b[38;5;21;01mref_data\u001b[39;00m \u001b[38;5;28;01mas\u001b[39;00m \u001b[38;5;21;01medgar_data\u001b[39;00m\n\u001b[0;32m      2\u001b[0m tickers_sp100 \u001b[38;5;241m=\u001b[39m edgar_data\u001b[38;5;241m.\u001b[39m get_sp100()\n\u001b[0;32m      3\u001b[0m \u001b[38;5;28mprint\u001b[39m(tickers_sp100)\n",
      "\u001b[1;31mModuleNotFoundError\u001b[0m: No module named 'ref_data'"
     ]
    }
   ],
   "source": [
    "import ref_data as edgar_data\n",
    "tickers_sp100 = edgar_data. get_sp100()\n",
    "print(tickers_sp100)"
   ]
  }
 ],
 "metadata": {
  "kernelspec": {
   "display_name": "Python 3 (ipykernel)",
   "language": "python",
   "name": "python3"
  },
  "language_info": {
   "codemirror_mode": {
    "name": "ipython",
    "version": 3
   },
   "file_extension": ".py",
   "mimetype": "text/x-python",
   "name": "python",
   "nbconvert_exporter": "python",
   "pygments_lexer": "ipython3",
   "version": "3.10.8"
  }
 },
 "nbformat": 4,
 "nbformat_minor": 5
}
