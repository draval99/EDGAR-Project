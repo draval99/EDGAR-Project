{
 "cells": [
  {
   "cell_type": "code",
   "execution_count": 2,
   "id": "a6014ddb",
   "metadata": {},
   "outputs": [
    {
     "name": "stdout",
     "output_type": "stream",
     "text": [
      " HTML Reference Tutorials References Exercises Sign Up Spaces Bootcamp Menu Log in Create Website Get Certified Pro HTML CSS JAVASCRIPT SQL PYTHON JAVA PHP BOOTSTRAP HOW TO W3 CSS C C C REACT R JQUERY DJANGO TYPESCRIPT NODEJS MYSQL Dark mode Dark code Tutorials HTML and CSS Learn HTML Learn CSS Learn RWD Learn Bootstrap Learn W3 CSS Learn Colors Learn Icons Learn Graphics Learn SVG Learn Canvas Learn How To Learn Sass Data Analytics Learn AI Learn Machine Learning Learn Data Science Learn NumPy Learn Pandas Learn SciPy Learn Matplotlib Learn Statistics Learn Excel XML Tutorials Learn XML Learn XML AJAX Learn XML DOM Learn XML DTD Learn XML Schema Learn XSLT Learn XPath Learn XQuery JavaScript Learn JavaScript Learn jQuery Learn React Learn AngularJS Learn JSON Learn AJAX Learn AppML Learn W3 JS Programming Learn Python Learn Java Learn C Learn C Learn C Learn R Learn Kotlin Learn Go Learn Django Learn TypeScript Server Side Learn SQL Learn MySQL Learn PHP Learn ASP Learn Node js Learn Raspberry Pi Learn Git Learn MongoDB Learn AWS Cloud Web Building Create a Website NEW Where To Start Web Templates Web Statistics Web Certificates Web Development Code Editor Test Your Typing Speed Play a Code Game Cyber Security Accessibility Join our Newsletter Data Analytics Learn AI Learn Machine Learning Learn Data Science Learn NumPy Learn Pandas Learn SciPy Learn Matplotlib Learn Statistics Learn Excel Learn Google Sheets XML Tutorials Learn XML Learn XML AJAX Learn XML DOM Learn XML DTD Learn XML Schema Learn XSLT Learn XPath Learn XQuery References HTML HTML Tag Reference HTML Browser Support HTML Event Reference HTML Color Reference HTML Attribute Reference HTML Canvas Reference HTML SVG Reference Google Maps Reference CSS CSS Reference CSS Browser Support CSS Selector Reference Bootstrap 3 Reference Bootstrap 4 Reference W3 CSS Reference Icon Reference Sass Reference JavaScript JavaScript Reference HTML DOM Reference jQuery Reference AngularJS Reference AppML Reference W3 JS Reference Programming Python Reference Java Reference Server Side SQL Reference MySQL Reference PHP Reference ASP Reference XML XML DOM Reference XML Http Reference XSLT Reference XML Schema Reference Character Sets HTML Character Sets HTML ASCII HTML ANSI HTML Windows 1252 HTML ISO 8859 1 HTML Symbols HTML UTF 8 Exercises and Quizzes Exercises HTML Exercises CSS Exercises JavaScript Exercises Python Exercises SQL Exercises PHP Exercises Java Exercises C Exercises C Exercises C Exercises jQuery Exercises React js Exercises MySQL Exercises Bootstrap 5 Exercises Bootstrap 4 Exercises Bootstrap 3 Exercises NumPy Exercises Pandas Exercises SciPy Exercises TypeScript Exercises Excel Exercises R Exercises Git Exercises Kotlin Exercises Go Exercises MongoDB Exercises Quizzes HTML Quiz CSS Quiz JavaScript Quiz Python Quiz SQL Quiz PHP Quiz Java Quiz C Quiz C Quiz C Quiz jQuery Quiz React js Quiz MySQL Quiz Bootstrap 5 Quiz Bootstrap 4 Quiz Bootstrap 3 Quiz NumPy Quiz Pandas Quiz SciPy Quiz TypeScript Quiz XML Quiz R Quiz Git Quiz Kotlin Quiz Cyber Security Quiz Accessibility Quiz Courses HTML Course CSS Course JavaScript Course Front End Course Python Course SQL Course PHP Course Java Course C Course C Course jQuery Course React js Course Bootstrap 4 Course Bootstrap 3 Course NumPy Course Pandas Course TypeScript Course XML Course R Course Data Analytics Course Cyber Security Course Accessibility Course Certificates HTML Certificate CSS Certificate JavaScript Certificate Front End Certificate Python Certificate SQL Certificate PHP Certificate Java Certificate C Certificate C Certificate jQuery Certificate React js Certificate MySQL Certificate Bootstrap 5 Certificate Bootstrap 4 Certificate Bootstrap 3 Certificate TypeScript Certificate XML Certificate Excel Certificate Data Science Certificate Cyber Security Certificate Accessibility Certificate Tutorials References Exercises Get Certified Sign Up PRO Spaces Bootcamp Shop HTML Reference HTML by Alphabet HTML by Category HTML Browser Support HTML Attributes HTML Global Attributes HTML Events HTML Colors HTML Canvas HTML Audio Video HTML Character Sets HTML Doctypes HTML URL Encode HTML Language Codes HTML Country Codes HTTP Messages HTTP Methods PX to EM Converter Keyboard Shortcuts HTML Tags DOCTYPE a abbr acronym address applet area article aside audio b base basefont bdi bdo big blockquote body br button canvas caption center cite code col colgroup data datalist dd del details dfn dialog dir div dl dt em embed fieldset figcaption figure font footer form frame frameset h1 h6 head header hr html i iframe img input ins kbd label legend li link main map mark meta meter nav noframes noscript object ol optgroup option output p param picture pre progress q rp rt ruby s samp script section select small source span strike strong style sub summary sup svg table tbody td template textarea tfoot th thead time title tr track tt u ul var video wbr HTML Element Reference By Category Previous Next Basic HTML Tag Description DOCTYPE Defines the document type html Defines an HTML document head Contains metadata information for the document title Defines a title for the document body Defines the document s body h1 to h6 Defines HTML headings p Defines a paragraph br Inserts a single line break hr Defines a thematic change in the content Defines a comment Formatting Tag Description acronym Not supported in HTML5 Use abbr instead Defines an acronym abbr Defines an abbreviation or an acronym address Defines contact information for the author owner of a document article b Defines bold text bdi Isolates a part of text that might be formatted in a different direction from other text outside it bdo Overrides the current text direction big Not supported in HTML5 Use CSS instead Defines big text blockquote Defines a section that is quoted from another source center Not supported in HTML5 Use CSS instead Defines centered text cite Defines the title of a work code Defines a piece of computer code del Defines text that has been deleted from a document dfn Specifies a term that is going to be defined within the content em Defines emphasized text font Not supported in HTML5 Use CSS instead Defines font color and size for text i Defines a part of text in an alternate voice or mood ins Defines a text that has been inserted into a document kbd Defines keyboard input mark Defines marked highlighted text meter Defines a scalar measurement within a known range a gauge pre Defines preformatted text progress Represents the progress of a task q Defines a short quotation rp Defines what to show in browsers that do not support ruby annotations rt Defines an explanation pronunciation of characters for East Asian typography ruby Defines a ruby annotation for East Asian typography s Defines text that is no longer correct samp Defines sample output from a computer program small Defines smaller text strike Not supported in HTML5 Use del or s instead Defines strikethrough text strong Defines important text sub Defines subscripted text sup Defines superscripted text template Defines a container for content that should be hidden when the page loads time Defines a specific time or datetime tt Not supported in HTML5 Use CSS instead Defines teletype text u Defines some text that is unarticulated and styled differently from normal text var Defines a variable wbr Defines a possible line break Forms and Input Tag Description form Defines an HTML form for user input input Defines an input control textarea Defines a multiline input control text area button Defines a clickable button select Defines a drop down list optgroup Defines a group of related options in a drop down list option Defines an option in a drop down list label Defines a label for an input element fieldset Groups related elements in a form legend Defines a caption for a fieldset element datalist Specifies a list of pre defined options for input controls output Defines the result of a calculation Frames Tag Description frame Not supported in HTML5 Defines a window a frame in a frameset frameset Not supported in HTML5 Defines a set of frames noframes Not supported in HTML5 Defines an alternate content for users that do not support frames iframe Defines an inline frame Images Tag Description img Defines an image map Defines a client side image map area Defines an area inside an image map canvas Used to draw graphics on the fly via scripting usually JavaScript figcaption Defines a caption for a figure element figure Specifies self contained content picture Defines a container for multiple image resources svg Defines a container for SVG graphics Audio Video Tag Description audio Defines sound content source Defines multiple media resources for media elements video audio and picture track Defines text tracks for media elements video and audio video Defines a video or movie Links Tag Description a Defines a hyperlink link Defines the relationship between a document and an external resource most used to link to style sheets nav Defines navigation links Lists Tag Description ul Defines an unordered list ol Defines an ordered list li Defines a list item dir Not supported in HTML5 Use ul instead Defines a directory list dl Defines a description list dt Defines a term name in a description list dd Defines a description of a term name in a description list Tables Tag Description table Defines a table caption Defines a table caption th Defines a header cell in a table tr Defines a row in a table td Defines a cell in a table thead Groups the header content in a table tbody Groups the body content in a table tfoot Groups the footer content in a table col Specifies column properties for each column within a colgroup element colgroup Specifies a group of one or more columns in a table for formatting Styles and Semantics Tag Description style Defines style information for a document div Defines a section in a document span Defines a section in a document header Defines a header for a document or section footer Defines a footer for a document or section main Specifies the main content of a document section Defines a section in a document article Defines an article aside Defines content aside from the page content details Defines additional details that the user can view or hide dialog Defines a dialog box or window summary Defines a visible heading for a details element data Adds a machine readable translation of a given content Meta Info Tag Description head Defines information about the document meta Defines metadata about an HTML document base Specifies the base URL target for all relative URLs in a document basefont Not supported in HTML5 Use CSS instead Specifies a default color size and font for all text in a document Programming Tag Description script Defines a client side script noscript Defines an alternate content for users that do not support client side scripts applet Not supported in HTML5 Use embed or object instead Defines an embedded applet embed Defines a container for an external non HTML application object Defines an embedded object param Defines a parameter for an object Previous Next COLOR PICKER Get certifiedby completinga course today w3schools CERTIFIED 2023 Get started Report Error Report Error Spaces Spaces Upgrade Upgrade Newsletter Newsletter Get Certified Get Certified Report Error If you want to report an error or if you want to make a suggestion do not hesitate to send us an e mail help w3schools com Thank You For Helping Us Your message has been sent to W3Schools Top Tutorials HTML Tutorial CSS Tutorial JavaScript Tutorial How To Tutorial SQL Tutorial Python Tutorial W3 CSS Tutorial Bootstrap Tutorial PHP Tutorial Java Tutorial C Tutorial jQuery Tutorial Top References HTML Reference CSS Reference JavaScript Reference SQL Reference Python Reference W3 CSS Reference Bootstrap Reference PHP Reference HTML Colors Java Reference Angular Reference jQuery Reference Top Examples HTML Examples CSS Examples JavaScript Examples How To Examples SQL Examples Python Examples W3 CSS Examples Bootstrap Examples PHP Examples Java Examples XML Examples jQuery Examples Get Certified HTML Certificate CSS Certificate JavaScript Certificate Front End Certificate SQL Certificate Python Certificate PHP Certificate jQuery Certificate Java Certificate C Certificate C Certificate XML Certificate FORUM ABOUT W3Schools is optimized for learning and training Examples might be simplified to improve reading and learning Tutorials references and examples are constantly reviewed to avoid errors but we cannot warrant full correctness of all content While using W3Schools you agree to have read and accepted our terms of use cookie and privacy policy Copyright 1999 2023 by Refsnes Data All Rights Reserved W3Schools is Powered by W3 CSS \n"
     ]
    }
   ],
   "source": [
    "import requests\n",
    "from bs4 import BeautifulSoup\n",
    "\n",
    "url = \"https://w3schools.com/tags/ref_byfunc.asp\"\n",
    "response = requests.get(url)\n",
    "soup = BeautifulSoup(response.text, 'html.parser')\n",
    "text = soup.get_text()\n",
    "\n",
    "import re\n",
    "clean_text = re.sub('[^A-Za-z0-9]+', ' ', text)\n",
    "\n",
    "\n",
    "print(clean_text)\n",
    "\n",
    "\n",
    "\n"
   ]
  },
  {
   "cell_type": "code",
   "execution_count": null,
   "id": "9a12412e",
   "metadata": {},
   "outputs": [],
   "source": [
    "import requests\n",
    "from bs4 import BeautifulSoup  \n",
    "html_text = f'https://w3schools.com/tags/ref_byfunc.asp'\n",
    "url = rf'{html_text}'\n",
    "response = requests.get(url) \n",
    "soup = BeautifulSoup(response.text, 'html.parser') "
   ]
  }
 ],
 "metadata": {
  "kernelspec": {
   "display_name": "Python 3 (ipykernel)",
   "language": "python",
   "name": "python3"
  },
  "language_info": {
   "codemirror_mode": {
    "name": "ipython",
    "version": 3
   },
   "file_extension": ".py",
   "mimetype": "text/x-python",
   "name": "python",
   "nbconvert_exporter": "python",
   "pygments_lexer": "ipython3",
   "version": "3.10.8"
  }
 },
 "nbformat": 4,
 "nbformat_minor": 5
}
